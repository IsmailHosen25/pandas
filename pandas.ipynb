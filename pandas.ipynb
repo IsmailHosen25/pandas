{
 "cells": [
  {
   "cell_type": "code",
   "execution_count": 14,
   "id": "2230dcae",
   "metadata": {},
   "outputs": [
    {
     "name": "stdout",
     "output_type": "stream",
     "text": [
      "0    1\n",
      "1    2\n",
      "2    3\n",
      "3    4\n",
      "4    5\n",
      "dtype: int64 \n",
      "\n",
      "\n",
      "<class 'pandas.core.series.Series'>\n",
      "3 \n",
      "\n",
      "\n",
      "a    1\n",
      "b    2\n",
      "c    3\n",
      "d    4\n",
      "e    5\n",
      "dtype: int64 \n",
      "\n",
      "\n"
     ]
    },
    {
     "data": {
      "text/plain": [
       "0    13.0\n",
       "1    13.0\n",
       "2    13.0\n",
       "3    13.0\n",
       "4    13.0\n",
       "5    13.0\n",
       "Name: Hasan, dtype: float64"
      ]
     },
     "execution_count": 14,
     "metadata": {},
     "output_type": "execute_result"
    }
   ],
   "source": [
    "##Series\n",
    "import pandas as pd\n",
    "x=[1,2,3,4,5]\n",
    "var=pd.Series(x)\n",
    "print(var,\"\\n\\n\")\n",
    "print(type(var))\n",
    "print(var[2],\"\\n\\n\")\n",
    "var =pd.Series(x,index=[\"a\",'b','c','d','e'])\n",
    "print(var,\"\\n\\n\")\n",
    "\n",
    "h={\n",
    "    \"Name\":[\"hasan\",\"Rafi\",\"Zidan\"],\n",
    "    \"CGPA\":[\"3.21\",\"2.97\",\"2.21\"],\n",
    "    \"Rofs\":[\"90\",\"80\",\"60\"]\n",
    "    \n",
    "}\n",
    "ser=pd.Series(h)\n",
    "ser\n",
    "\n",
    "n=pd.Series(13,index=[0,1,2,3,4,5],dtype=\"float\", name=\"Hasan\")\n",
    "n"
   ]
  },
  {
   "cell_type": "code",
   "execution_count": 36,
   "id": "65e69e9c",
   "metadata": {},
   "outputs": [
    {
     "name": "stdout",
     "output_type": "stream",
     "text": [
      "    Name  CGPA Rofs\n",
      "0  hasan  3.21   90\n",
      "1   Rafi  2.97   80\n",
      "2  Zidan  2.21   60\n",
      "<class 'pandas.core.frame.DataFrame'> \n",
      "\n",
      "\n",
      "  Rofs\n",
      "a   90\n",
      "b   80\n",
      "c   60 \n",
      "\n",
      "\n",
      "Rafi=2.97=80\n"
     ]
    }
   ],
   "source": [
    "h={\n",
    "    \"Name\":[\"hasan\",\"Rafi\",\"Zidan\"],\n",
    "    \"CGPA\":[\"3.21\",\"2.97\",\"2.21\"],\n",
    "    \"Rofs\":[\"90\",\"80\",\"60\"]\n",
    "    \n",
    "}\n",
    "df=pd.DataFrame(h)\n",
    "print(df)\n",
    "print(type(df),\"\\n\\n\")\n",
    "print(pd.DataFrame(h,columns=[\"Rofs\"],index=[\"a\",\"b\",\"c\"]),\"\\n\\n\")\n",
    "print(df[\"Name\"][1],df[\"CGPA\"][1],df[\"Rofs\"][1],sep=\"=\")\n"
   ]
  },
  {
   "cell_type": "code",
   "execution_count": 12,
   "id": "39f8757c",
   "metadata": {},
   "outputs": [
    {
     "name": "stdout",
     "output_type": "stream",
     "text": [
      "    Name  CGPA Rofs\n",
      "0  hasan  3.21   90\n",
      "1   Rafi  2.97   80\n",
      "2  Zidan  2.21   60\n"
     ]
    }
   ],
   "source": [
    "print(n)"
   ]
  },
  {
   "cell_type": "code",
   "execution_count": 13,
   "id": "292f49de",
   "metadata": {},
   "outputs": [],
   "source": [
    "n.to_csv(\"f.csv\")"
   ]
  },
  {
   "cell_type": "code",
   "execution_count": 15,
   "id": "c5723160",
   "metadata": {},
   "outputs": [
    {
     "data": {
      "text/html": [
       "<div>\n",
       "<style scoped>\n",
       "    .dataframe tbody tr th:only-of-type {\n",
       "        vertical-align: middle;\n",
       "    }\n",
       "\n",
       "    .dataframe tbody tr th {\n",
       "        vertical-align: top;\n",
       "    }\n",
       "\n",
       "    .dataframe thead th {\n",
       "        text-align: right;\n",
       "    }\n",
       "</style>\n",
       "<table border=\"1\" class=\"dataframe\">\n",
       "  <thead>\n",
       "    <tr style=\"text-align: right;\">\n",
       "      <th></th>\n",
       "      <th>hasan</th>\n",
       "      <th>rafi</th>\n",
       "    </tr>\n",
       "  </thead>\n",
       "  <tbody>\n",
       "    <tr>\n",
       "      <th>0</th>\n",
       "      <td>1\\t2</td>\n",
       "      <td>2</td>\n",
       "    </tr>\n",
       "    <tr>\n",
       "      <th>1</th>\n",
       "      <td>7\\t8</td>\n",
       "      <td>5</td>\n",
       "    </tr>\n",
       "    <tr>\n",
       "      <th>2</th>\n",
       "      <td>2\\t6</td>\n",
       "      <td>9</td>\n",
       "    </tr>\n",
       "  </tbody>\n",
       "</table>\n",
       "</div>"
      ],
      "text/plain": [
       "  hasan  rafi\n",
       "0  1\\t2     2\n",
       "1  7\\t8     5\n",
       "2  2\\t6     9"
      ]
     },
     "execution_count": 15,
     "metadata": {},
     "output_type": "execute_result"
    }
   ],
   "source": [
    "k=pd.read_csv('book.csv')\n",
    "k"
   ]
  },
  {
   "cell_type": "code",
   "execution_count": null,
   "id": "b38cdf60",
   "metadata": {},
   "outputs": [],
   "source": []
  }
 ],
 "metadata": {
  "kernelspec": {
   "display_name": "Python 3 (ipykernel)",
   "language": "python",
   "name": "python3"
  },
  "language_info": {
   "codemirror_mode": {
    "name": "ipython",
    "version": 3
   },
   "file_extension": ".py",
   "mimetype": "text/x-python",
   "name": "python",
   "nbconvert_exporter": "python",
   "pygments_lexer": "ipython3",
   "version": "3.10.6"
  }
 },
 "nbformat": 4,
 "nbformat_minor": 5
}
